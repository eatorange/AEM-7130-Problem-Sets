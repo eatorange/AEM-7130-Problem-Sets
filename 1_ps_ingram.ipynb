{
 "cells": [
  {
   "cell_type": "markdown",
   "metadata": {},
   "source": [
    "# Homework 1: Due February 13 at 3:00PM.\n",
    "Fork/clone this repo and then solve the problems in this notebook. Make sure your code is well-commented, separated into different blocks in a smart way, and executed before your push it to **your** repository."
   ]
  },
  {
   "cell_type": "markdown",
   "metadata": {},
   "source": [
    "## Problem 1: Coding, integration, and a simple econ example\n",
    "A profit-maximizing firm faces a demand curve given by: $P(q) = a-bq$ where $b\\sim logN(\\mu,\\sigma)$ and has a cost function given by $C(q) = cq$. \n",
    "\n",
    "1. Solve for the optimal quantity analytically. Write your proof in the notebook using markdown.\n",
    "2. Write a function called `profit_max_q(a, c, mu, sigma, method, n)` that returns the numerical optimal quantity given a set of inputs $(a, c, \\mu, \\sigma, method, n)$, where `method` is a string that takes on a value of `\"mc\"` or `\"quad\"` and determines whether you integrate using Monte Carlo or quadrature methods, and `n` is the number of Monte Carlo draws or quadrature nodes.\n",
    "3. Choose a set of values $(a, c, \\mu, \\sigma)$ and use `profit_max_q` to solve the problem for both approaches to integration. Use the `CompEcon` package to implement the quadrature routine."
   ]
  },
  {
   "cell_type": "markdown",
   "metadata": {},
   "source": [
    "## Problem 1 Answer\n",
    "1.1 \n",
    "We want to solve $\\max_{q}\\mathbb{E}(\\pi(q)) = \\max_{q}\\mathbb{E}(aq - bq^{2} -cq)$.\n",
    "Taking FOC gives $a - 2q\\mathbb{E}(b) - c = 0$.  Rearranging gives \\begin{equation}\n",
    "q = \\frac{a-c}{2\\mathbb{E}(b)} = \\frac{a-c}{2exp(\\mu+\\frac{\\sigma^{2}}{2})}\n",
    "\\end{equation}\n",
    "because $b\\sim logN(\\mu,\\sigma)$."
   ]
  },
  {
   "cell_type": "code",
   "execution_count": 6,
   "metadata": {},
   "outputs": [
    {
     "name": "stdout",
     "output_type": "stream",
     "text": [
      "1.2\n"
     ]
    },
    {
     "ename": "LoadError",
     "evalue": "syntax: cannot juxtapose string literal",
     "output_type": "error",
     "traceback": [
      "syntax: cannot juxtapose string literal",
      ""
     ]
    }
   ],
   "source": [
    "#Pkg.add(\"CompEcon\")\n",
    "using CompEcon\n",
    "#Pkg.add(\"FastGaussQuadrature\")\n",
    "using FastGaussQuadrature\n",
    "\n",
    "\n",
    "function lognpdf(mu, sigma, x)\n",
    "    #evaluates logN(mu,sigma) pdf at x\n",
    "    if x<0\n",
    "        println(\"x must be positive\")\n",
    "    else\n",
    "    return (x*sigma*sqrt(2*pi))^(-1)*exp(-(log(x)-mu)^(2)/(2*sigma^(2)))\n",
    "    end\n",
    "end\n",
    "\n",
    "\n",
    "function profit_max_q(a, c, mu, sigma, method, n)\n",
    "    #this function solves for q that maximizes profits given by pi=aq-bq^2-cq  where b~logN(mu,sigma)\n",
    "    if method==\"quad\"\n",
    "        nodes, weights = gausslegendre(n)\n",
    "        Eb = sum(weights.*(exp.(nodes).*lognpdf.(mu,sigma,exp.(nodes))))\n",
    "        q = (a-c)/2*Eb\n",
    "    elseif method==\"mc\"\n",
    "        Random.seed!(1234)\n",
    "        nodes = rand(n)\n",
    "        Eb = sum(exp.(nodes).*lognpdf.(mu,sigma,exp.(nodes)))\n",
    "        q = (a-c)/2*Eb\n",
    "    else\n",
    "        println(\"Method must be either \"mc\" or \"quad\"\")\n",
    "    end\n",
    "    return q\n",
    "end\n",
    "\n",
    "q_quad = profit_max_q(3, 1, .5, 1, \"quad\", 5)\n",
    "\n",
    "println(\"Using guassian quadrature, we estimate optimal quantity = $q_quad\")\n",
    "\n",
    "q_mc = profit_max_q(3, 1, .5, 1, \"mc\", 100)\n",
    "\n",
    "println(\"Using MC, we estimate optimal quantity = $q_mc\")"
   ]
  },
  {
   "cell_type": "markdown",
   "metadata": {
    "slideshow": {
     "slide_type": ""
    }
   },
   "source": [
    "## Problem 2: Coding and Monte Carlo\n",
    "Approximate $\\pi$ using Monte Carlo. You may only use `rand()` to generate random numbers. Here is how to think about approximating $\\pi$:\n",
    "1. Suppose $U$ is a two dimensional random variable on the unit square $[0,1]\\times[0,1]$. The probability that $U$ is in a subset $B$ of $(0,1)\\times(0,1)$ is equal to the area of $B$.\n",
    "2. If $u_1,...,u_n$ are iid draws from $U$, then as $n$ grows (by an LLN type argument), the fraction that falls inside $B$ is the probability of another iid draw coming from $B$.\n",
    "3. The area of a circle is given by $\\pi \\times radius^2$."
   ]
  },
  {
   "cell_type": "markdown",
   "metadata": {},
   "source": [
    "## Problem 2 Answer"
   ]
  },
  {
   "cell_type": "code",
   "execution_count": 16,
   "metadata": {},
   "outputs": [
    {
     "ename": "MethodError",
     "evalue": "MethodError: objects of type Array{Float64,2} are not callable\nUse square brackets [] for indexing an Array.",
     "output_type": "error",
     "traceback": [
      "MethodError: objects of type Array{Float64,2} are not callable\nUse square brackets [] for indexing an Array.",
      "",
      "Stacktrace:",
      " [1] mapreduce_first(::Array{Float64,2}, ::Function, ::Int64) at ./reduce.jl:295",
      " [2] mapreduce(::Array{Float64,2}, ::Function, ::Int64) at ./reduce.jl:322",
      " [3] sum(::Array{Float64,2}, ::Int64) at ./reduce.jl:397",
      " [4] top-level scope at ./In[16]:14"
     ]
    }
   ],
   "source": [
    "using Random\n",
    "\n",
    "Random.seed!(1234)\n",
    "\n",
    "function dev2(x)\n",
    "    (x-0.5)^(2)\n",
    "end\n",
    "\n",
    "Size =  [1000,10000,100000,1000000] \n",
    "\n",
    "for n in Size\n",
    "    U = rand(n,2)\n",
    "    U1 = dev2.(U)\n",
    "    U2 = sum(U1,1)\n",
    "    dist = sqrt.(U2)\n",
    "    incircle = length(dist[dist .< 0.5])\n",
    "    Area = incircle/n\n",
    "    pi_est = Area*(.5)^(-2)\n",
    "    \n",
    "    println(\"With $n random draws, we estimate pi to be $pi_est.\")\n",
    "end\n",
    "    "
   ]
  },
  {
   "cell_type": "markdown",
   "metadata": {},
   "source": [
    "## Problem 3: Git"
   ]
  },
  {
   "cell_type": "markdown",
   "metadata": {},
   "source": [
    "1. Create a new repository named `problem-set-1-q-3` on your GitHub account.\n",
    "2. Put in a `README.md` with the following text: `Hello World!`.\n",
    "3. Put in a .gitignore file, ignoring the Jupyter files .ipynb_checkpoints and the project files, .projects.\n",
    "4. Create a new branch called `new-branch`.\n",
    "5. Change the `README.md` text to `Goodbye World!`.\n",
    "6. Merge `new-branch` back into `master`."
   ]
  },
  {
   "cell_type": "markdown",
   "metadata": {},
   "source": [
    "## Problem 3 Answer\n",
    "\n",
    "See https://github.com/m-ingram/problem-set-1-q-3"
   ]
  },
  {
   "cell_type": "markdown",
   "metadata": {},
   "source": [
    "## Problem 4: Memory location\n",
    "\n",
    "Let's learn about some of the nuances of memory allocation.\n",
    "\n",
    "1. Generate one $20000 \\times 20000$ array of random numbers named `x`. \n",
    "2. Make a function called `exp_cols` which exponentiates the elements of `x` column by column (i.e. by broadcasting `exp.()`) and returns the exponentiated array.\n",
    "3. Make a function called `exp_rows` which exponentiates the elements of `x` row by row (i.e. by broadcasting `exp.()`) and returns the exponentiated array.\n",
    "4. Call `exp_cols(x)` and `exp_rows(x)` twice and calculate the elapsed time on the second call (avoids fixed cost of initial compiliation).\n",
    "5. Is one faster than the other?"
   ]
  },
  {
   "cell_type": "code",
   "execution_count": 1,
   "metadata": {},
   "outputs": [
    {
     "ename": "MethodError",
     "evalue": "MethodError: objects of type Array{Float64,2} are not callable\nUse square brackets [] for indexing an Array.",
     "output_type": "error",
     "traceback": [
      "MethodError: objects of type Array{Float64,2} are not callable\nUse square brackets [] for indexing an Array.",
      "",
      "Stacktrace:",
      " [1] mapreduce_first(::Array{Float64,2}, ::Function, ::Int64) at ./reduce.jl:295",
      " [2] mapreduce(::Array{Float64,2}, ::Function, ::Int64) at ./reduce.jl:322",
      " [3] sum(::Array{Float64,2}, ::Int64) at ./reduce.jl:397",
      " [4] sum_cols(::Array{Float64,2}) at ./In[1]:10",
      " [5] top-level scope at In[1]:16"
     ]
    }
   ],
   "source": [
    "using Random\n",
    "\n",
    "Random.seed!(1234)\n",
    "\n",
    "x = rand(20000,20000)\n",
    "\n",
    "#Computing exp.(x) causes my jupyter notebook kernal to die so I've done the problem with summing the rows/columns\n",
    "\n",
    "function sum_cols(x)\n",
    "    return sum(x,2)\n",
    "end\n",
    "\n",
    "function sum_rows(x)\n",
    "    return sum(x,1)\n",
    "end\n",
    "\n",
    "sum_cols(x)\n",
    "@time sum_cols(x)\n",
    "\n",
    "sum_rows(x)\n",
    "@time sum_rows(x)\n"
   ]
  },
  {
   "cell_type": "markdown",
   "metadata": {},
   "source": [
    "## Comment on code\n",
    "\n",
    "The julia code does not run and I have been able to resolve the errors yet. It's not clear to me why arrays are not callable into functions. The Julia language doc references an array not being callable in a case such as x(x) instead of specifying multiplication.  But that isn't happening here.   I'm going to try to redo this in python."
   ]
  }
 ],
 "metadata": {
  "kernelspec": {
   "display_name": "Julia 1.0.3",
   "language": "julia",
   "name": "julia-1.0"
  },
  "language_info": {
   "file_extension": ".jl",
   "mimetype": "application/julia",
   "name": "julia",
   "version": "1.0.3"
  },
  "varInspector": {
   "cols": {
    "lenName": 16,
    "lenType": 16,
    "lenVar": 40
   },
   "kernels_config": {
    "python": {
     "delete_cmd_postfix": "",
     "delete_cmd_prefix": "del ",
     "library": "var_list.py",
     "varRefreshCmd": "print(var_dic_list())"
    },
    "r": {
     "delete_cmd_postfix": ") ",
     "delete_cmd_prefix": "rm(",
     "library": "var_list.r",
     "varRefreshCmd": "cat(var_dic_list()) "
    }
   },
   "types_to_exclude": [
    "module",
    "function",
    "builtin_function_or_method",
    "instance",
    "_Feature"
   ],
   "window_display": false
  }
 },
 "nbformat": 4,
 "nbformat_minor": 2
}
